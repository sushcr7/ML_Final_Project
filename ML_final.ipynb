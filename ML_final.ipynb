{
 "cells": [
  {
   "cell_type": "code",
   "execution_count": 176,
   "metadata": {},
   "outputs": [],
   "source": [
    "import pandas as pd\n",
    "import matplotlib.pyplot as plt\n",
    "import seaborn as sns\n",
    "import numpy as np\n",
    "from sklearn.model_selection import KFold, train_test_split, GridSearchCV\n",
    "from sklearn.ensemble import RandomForestClassifier, BaggingClassifier, AdaBoostClassifier, VotingClassifier, GradientBoostingClassifier\n",
    "from sklearn.linear_model import LogisticRegression\n",
    "from sklearn.tree import DecisionTreeClassifier\n",
    "import xgboost as xgb\n",
    "from sklearn.metrics import precision_score, recall_score, accuracy_score"
   ]
  },
  {
   "cell_type": "code",
   "execution_count": 110,
   "metadata": {},
   "outputs": [],
   "source": [
    "train = pd.read_csv(\"train.csv\")\n",
    "test = pd.read_csv(\"test.csv\")"
   ]
  },
  {
   "cell_type": "code",
   "execution_count": 111,
   "metadata": {},
   "outputs": [
    {
     "name": "stdout",
     "output_type": "stream",
     "text": [
      "   id  feat_1  feat_2  feat_3  feat_4  feat_5  feat_6  feat_7  feat_8  feat_9  \\\n",
      "0   1       1       0       0       0       0       0       0       0       0   \n",
      "1   2       0       0       0       0       0       0       0       1       0   \n",
      "2   3       0       0       0       0       0       0       0       1       0   \n",
      "3   4       1       0       0       1       6       1       5       0       0   \n",
      "4   5       0       0       0       0       0       0       0       0       0   \n",
      "\n",
      "   ...  feat_85  feat_86  feat_87  feat_88  feat_89  feat_90  feat_91  \\\n",
      "0  ...        1        0        0        0        0        0        0   \n",
      "1  ...        0        0        0        0        0        0        0   \n",
      "2  ...        0        0        0        0        0        0        0   \n",
      "3  ...        0        1        2        0        0        0        0   \n",
      "4  ...        1        0        0        0        0        1        0   \n",
      "\n",
      "   feat_92  feat_93   target  \n",
      "0        0        0  Class_1  \n",
      "1        0        0  Class_1  \n",
      "2        0        0  Class_1  \n",
      "3        0        0  Class_1  \n",
      "4        0        0  Class_1  \n",
      "\n",
      "[5 rows x 95 columns]\n"
     ]
    }
   ],
   "source": [
    "print(train.head())"
   ]
  },
  {
   "cell_type": "code",
   "execution_count": 112,
   "metadata": {},
   "outputs": [
    {
     "name": "stdout",
     "output_type": "stream",
     "text": [
      "   id  feat_1  feat_2  feat_3  feat_4  feat_5  feat_6  feat_7  feat_8  feat_9  \\\n",
      "0   1       0       0       0       0       0       0       0       0       0   \n",
      "1   2       2       2      14      16       0       0       0       0       0   \n",
      "2   3       0       1      12       1       0       0       0       0       0   \n",
      "3   4       0       0       0       1       0       0       0       0       0   \n",
      "4   5       1       0       0       1       0       0       1       2       0   \n",
      "\n",
      "   ...  feat_84  feat_85  feat_86  feat_87  feat_88  feat_89  feat_90  \\\n",
      "0  ...        0        0       11        1       20        0        0   \n",
      "1  ...        0        0        0        0        0        4        0   \n",
      "2  ...        0        0        0        0        2        0        0   \n",
      "3  ...        0        3        1        0        0        0        0   \n",
      "4  ...        0        0        0        0        0        0        0   \n",
      "\n",
      "   feat_91  feat_92  feat_93  \n",
      "0        0        0        0  \n",
      "1        0        2        0  \n",
      "2        0        0        1  \n",
      "3        0        0        0  \n",
      "4        9        0        0  \n",
      "\n",
      "[5 rows x 94 columns]\n"
     ]
    }
   ],
   "source": [
    "print(test.head())"
   ]
  },
  {
   "cell_type": "code",
   "execution_count": 113,
   "metadata": {},
   "outputs": [
    {
     "name": "stdout",
     "output_type": "stream",
     "text": [
      "   id  feat_1  feat_2  feat_3  feat_4  feat_5  feat_6  feat_7  feat_8  feat_9  \\\n",
      "0   1       1       0       0       0       0       0       0       0       0   \n",
      "1   2       0       0       0       0       0       0       0       1       0   \n",
      "2   3       0       0       0       0       0       0       0       1       0   \n",
      "3   4       1       0       0       1       6       1       5       0       0   \n",
      "4   5       0       0       0       0       0       0       0       0       0   \n",
      "\n",
      "   ...  feat_85  feat_86  feat_87  feat_88  feat_89  feat_90  feat_91  \\\n",
      "0  ...        1        0        0        0        0        0        0   \n",
      "1  ...        0        0        0        0        0        0        0   \n",
      "2  ...        0        0        0        0        0        0        0   \n",
      "3  ...        0        1        2        0        0        0        0   \n",
      "4  ...        1        0        0        0        0        1        0   \n",
      "\n",
      "   feat_92  feat_93  target  \n",
      "0        0        0       0  \n",
      "1        0        0       0  \n",
      "2        0        0       0  \n",
      "3        0        0       0  \n",
      "4        0        0       0  \n",
      "\n",
      "[5 rows x 95 columns]\n"
     ]
    }
   ],
   "source": [
    "train[\"target\"] = train[\"target\"].astype(\"category\").cat.codes\n",
    "print(train.head())"
   ]
  },
  {
   "cell_type": "code",
   "execution_count": 114,
   "metadata": {},
   "outputs": [
    {
     "name": "stdout",
     "output_type": "stream",
     "text": [
      "       feat_1  feat_2  feat_3  feat_4  feat_5  feat_6  feat_7  feat_8  feat_9  \\\n",
      "0           1       0       0       0       0       0       0       0       0   \n",
      "1           0       0       0       0       0       0       0       1       0   \n",
      "2           0       0       0       0       0       0       0       1       0   \n",
      "3           1       0       0       1       6       1       5       0       0   \n",
      "4           0       0       0       0       0       0       0       0       0   \n",
      "...       ...     ...     ...     ...     ...     ...     ...     ...     ...   \n",
      "61873       1       0       0       1       1       0       0       0       0   \n",
      "61874       4       0       0       0       0       0       0       0       0   \n",
      "61875       0       0       0       0       0       0       0       3       1   \n",
      "61876       1       0       0       0       0       0       0       0       0   \n",
      "61877       0       0       0       0       0       0       0       0       0   \n",
      "\n",
      "       feat_10  ...  feat_84  feat_85  feat_86  feat_87  feat_88  feat_89  \\\n",
      "0            0  ...        0        1        0        0        0        0   \n",
      "1            0  ...        0        0        0        0        0        0   \n",
      "2            0  ...        0        0        0        0        0        0   \n",
      "3            1  ...       22        0        1        2        0        0   \n",
      "4            0  ...        0        1        0        0        0        0   \n",
      "...        ...  ...      ...      ...      ...      ...      ...      ...   \n",
      "61873        0  ...        0        1        0        0        0        0   \n",
      "61874        0  ...        0        0        2        0        0        2   \n",
      "61875        0  ...        0        0        3        1        0        0   \n",
      "61876        0  ...        0        0        0        0        0        1   \n",
      "61877        0  ...        0        0        0        0        0        0   \n",
      "\n",
      "       feat_90  feat_91  feat_92  feat_93  \n",
      "0            0        0        0        0  \n",
      "1            0        0        0        0  \n",
      "2            0        0        0        0  \n",
      "3            0        0        0        0  \n",
      "4            1        0        0        0  \n",
      "...        ...      ...      ...      ...  \n",
      "61873        0        0        2        0  \n",
      "61874        0        0        1        0  \n",
      "61875        0        0        0        0  \n",
      "61876        0        3       10        0  \n",
      "61877        0        0        2        0  \n",
      "\n",
      "[61878 rows x 93 columns]\n",
      "0        0\n",
      "1        0\n",
      "2        0\n",
      "3        0\n",
      "4        0\n",
      "        ..\n",
      "61873    8\n",
      "61874    8\n",
      "61875    8\n",
      "61876    8\n",
      "61877    8\n",
      "Name: target, Length: 61878, dtype: int8\n"
     ]
    }
   ],
   "source": [
    "X = train.iloc[:, 1:94]\n",
    "print(X)\n",
    "y = train.iloc[:, 94]\n",
    "print(y)"
   ]
  },
  {
   "cell_type": "code",
   "execution_count": 231,
   "metadata": {},
   "outputs": [
    {
     "data": {
      "image/png": "[encoded data removed]",
      "text/plain": [
       "<Figure size 1080x1080 with 2 Axes>"
      ]
     },
     "metadata": {
      "needs_background": "light"
     },
     "output_type": "display_data"
    }
   ],
   "source": [
    "plt.figure(figsize = (15,15))\n",
    "corr = train.corr()\n",
    "ax = sns.heatmap(\n",
    "    corr, \n",
    "    vmin=-1, vmax=1, center=0,\n",
    "    cmap=sns.diverging_palette(20, 220, n=200),\n",
    "    square=True\n",
    ")\n",
    "ax.set_xticklabels(\n",
    "    ax.get_xticklabels(),\n",
    "    rotation=45,\n",
    "    horizontalalignment='right'\n",
    ");"
   ]
  },
  {
   "cell_type": "code",
   "execution_count": 115,
   "metadata": {},
   "outputs": [
    {
     "name": "stdout",
     "output_type": "stream",
     "text": [
      "feat_1     12.900320\n",
      "feat_2     11.323788\n",
      "feat_3      5.305196\n",
      "feat_4      8.635398\n",
      "feat_5     13.309477\n",
      "             ...    \n",
      "feat_89    11.615028\n",
      "feat_90    10.407984\n",
      "feat_91    14.105234\n",
      "feat_92     4.953746\n",
      "feat_93    33.766676\n",
      "Length: 93, dtype: float64\n"
     ]
    }
   ],
   "source": [
    "skewvalues = X.skew()\n",
    "print(skewvalues)"
   ]
  },
  {
   "cell_type": "code",
   "execution_count": 233,
   "metadata": {
    "scrolled": false
   },
   "outputs": [
    {
     "data": {
      "image/png": "[encoded data removed]",
      "text/plain": [
       "<Figure size 864x576 with 1 Axes>"
      ]
     },
     "metadata": {
      "needs_background": "light"
     },
     "output_type": "display_data"
    }
   ],
   "source": [
    "plt.figure(figsize = (12,8))\n",
    "plt.bar([i for i in range(1, 94)], skewvalues)\n",
    "plt.xlabel(\"Feature no.\")\n",
    "plt.ylabel(\"Skewness\")\n",
    "plt.title(\"Skewness across features before log(x) transformation\")\n",
    "plt.show()   "
   ]
  },
  {
   "cell_type": "code",
   "execution_count": 116,
   "metadata": {},
   "outputs": [],
   "source": [
    "X_log = X.transform(lambda x : np.log(x + 1))"
   ]
  },
  {
   "cell_type": "code",
   "execution_count": 117,
   "metadata": {},
   "outputs": [
    {
     "name": "stdout",
     "output_type": "stream",
     "text": [
      "         feat_1  feat_2  feat_3    feat_4    feat_5    feat_6    feat_7  \\\n",
      "0      0.693147     0.0     0.0  0.000000  0.000000  0.000000  0.000000   \n",
      "1      0.000000     0.0     0.0  0.000000  0.000000  0.000000  0.000000   \n",
      "2      0.000000     0.0     0.0  0.000000  0.000000  0.000000  0.000000   \n",
      "3      0.693147     0.0     0.0  0.693147  1.945910  0.693147  1.791759   \n",
      "4      0.000000     0.0     0.0  0.000000  0.000000  0.000000  0.000000   \n",
      "...         ...     ...     ...       ...       ...       ...       ...   \n",
      "61873  0.693147     0.0     0.0  0.693147  0.693147  0.000000  0.000000   \n",
      "61874  1.609438     0.0     0.0  0.000000  0.000000  0.000000  0.000000   \n",
      "61875  0.000000     0.0     0.0  0.000000  0.000000  0.000000  0.000000   \n",
      "61876  0.693147     0.0     0.0  0.000000  0.000000  0.000000  0.000000   \n",
      "61877  0.000000     0.0     0.0  0.000000  0.000000  0.000000  0.000000   \n",
      "\n",
      "         feat_8    feat_9   feat_10  ...   feat_84   feat_85   feat_86  \\\n",
      "0      0.000000  0.000000  0.000000  ...  0.000000  0.693147  0.000000   \n",
      "1      0.693147  0.000000  0.000000  ...  0.000000  0.000000  0.000000   \n",
      "2      0.693147  0.000000  0.000000  ...  0.000000  0.000000  0.000000   \n",
      "3      0.000000  0.000000  0.693147  ...  3.135494  0.000000  0.693147   \n",
      "4      0.000000  0.000000  0.000000  ...  0.000000  0.693147  0.000000   \n",
      "...         ...       ...       ...  ...       ...       ...       ...   \n",
      "61873  0.000000  0.000000  0.000000  ...  0.000000  0.693147  0.000000   \n",
      "61874  0.000000  0.000000  0.000000  ...  0.000000  0.000000  1.098612   \n",
      "61875  1.386294  0.693147  0.000000  ...  0.000000  0.000000  1.386294   \n",
      "61876  0.000000  0.000000  0.000000  ...  0.000000  0.000000  0.000000   \n",
      "61877  0.000000  0.000000  0.000000  ...  0.000000  0.000000  0.000000   \n",
      "\n",
      "        feat_87  feat_88   feat_89   feat_90   feat_91   feat_92  feat_93  \n",
      "0      0.000000      0.0  0.000000  0.000000  0.000000  0.000000      0.0  \n",
      "1      0.000000      0.0  0.000000  0.000000  0.000000  0.000000      0.0  \n",
      "2      0.000000      0.0  0.000000  0.000000  0.000000  0.000000      0.0  \n",
      "3      1.098612      0.0  0.000000  0.000000  0.000000  0.000000      0.0  \n",
      "4      0.000000      0.0  0.000000  0.693147  0.000000  0.000000      0.0  \n",
      "...         ...      ...       ...       ...       ...       ...      ...  \n",
      "61873  0.000000      0.0  0.000000  0.000000  0.000000  1.098612      0.0  \n",
      "61874  0.000000      0.0  1.098612  0.000000  0.000000  0.693147      0.0  \n",
      "61875  0.693147      0.0  0.000000  0.000000  0.000000  0.000000      0.0  \n",
      "61876  0.000000      0.0  0.693147  0.000000  1.386294  2.397895      0.0  \n",
      "61877  0.000000      0.0  0.000000  0.000000  0.000000  1.098612      0.0  \n",
      "\n",
      "[61878 rows x 93 columns]\n"
     ]
    }
   ],
   "source": [
    "print(X_log)"
   ]
  },
  {
   "cell_type": "code",
   "execution_count": 118,
   "metadata": {},
   "outputs": [
    {
     "name": "stdout",
     "output_type": "stream",
     "text": [
      "feat_1     2.913842\n",
      "feat_2     3.900972\n",
      "feat_3     2.541053\n",
      "feat_4     2.518273\n",
      "feat_5     5.772432\n",
      "             ...   \n",
      "feat_89    2.426197\n",
      "feat_90    3.915315\n",
      "feat_91    5.793871\n",
      "feat_92    2.129729\n",
      "feat_93    6.175552\n",
      "Length: 93, dtype: float64\n"
     ]
    }
   ],
   "source": [
    "skew_log = X_log.skew()\n",
    "print(skew_log)"
   ]
  },
  {
   "cell_type": "code",
   "execution_count": 234,
   "metadata": {},
   "outputs": [
    {
     "data": {
      "image/png": "[encoded data removed]",
      "text/plain": [
       "<Figure size 864x576 with 1 Axes>"
      ]
     },
     "metadata": {
      "needs_background": "light"
     },
     "output_type": "display_data"
    }
   ],
   "source": [
    "plt.figure(figsize = (12,8))\n",
    "plt.bar([i for i in range(1, 94)], skew_log)\n",
    "plt.xlabel(\"Feature no.\")\n",
    "plt.ylabel(\"Skewness\")\n",
    "plt.title(\"Skewness across features after log(x) transformation\")\n",
    "plt.show()    "
   ]
  },
  {
   "cell_type": "code",
   "execution_count": 177,
   "metadata": {},
   "outputs": [],
   "source": [
    "X_train, X_test, y_train, y_test = train_test_split(X_log, y, test_size = 0.2, random_state = 42)"
   ]
  },
  {
   "cell_type": "code",
   "execution_count": 85,
   "metadata": {},
   "outputs": [
    {
     "data": {
      "text/plain": [
       "RandomForestClassifier(bootstrap=True, ccp_alpha=0.0, class_weight=None,\n",
       "                       criterion='gini', max_depth=None, max_features='auto',\n",
       "                       max_leaf_nodes=None, max_samples=None,\n",
       "                       min_impurity_decrease=0.0, min_impurity_split=None,\n",
       "                       min_samples_leaf=1, min_samples_split=2,\n",
       "                       min_weight_fraction_leaf=0.0, n_estimators=200,\n",
       "                       n_jobs=None, oob_score=False, random_state=None,\n",
       "                       verbose=0, warm_start=False)"
      ]
     },
     "execution_count": 85,
     "metadata": {},
     "output_type": "execute_result"
    }
   ],
   "source": [
    "rf = RandomForestClassifier(n_estimators = 200)\n",
    "rf.fit(X_train, y_train)"
   ]
  },
  {
   "cell_type": "code",
   "execution_count": 86,
   "metadata": {},
   "outputs": [
    {
     "data": {
      "text/plain": [
       "0.8130252100840336"
      ]
     },
     "execution_count": 86,
     "metadata": {},
     "output_type": "execute_result"
    }
   ],
   "source": [
    "rf.score(X_test, y_test)"
   ]
  },
  {
   "cell_type": "code",
   "execution_count": 87,
   "metadata": {},
   "outputs": [
    {
     "data": {
      "text/plain": [
       "array([0.0071359 , 0.00342464, 0.01018528, 0.0103301 , 0.00188325,\n",
       "       0.00084351, 0.00334913, 0.01477526, 0.01322864, 0.00408629,\n",
       "       0.04562777, 0.00243301, 0.00609411, 0.03217295, 0.02504023,\n",
       "       0.0115394 , 0.00885038, 0.0058044 , 0.00427078, 0.00713479,\n",
       "       0.0038715 , 0.00628621, 0.0033154 , 0.01919118, 0.0283816 ,\n",
       "       0.02845581, 0.01029887, 0.00354006, 0.00440221, 0.00916933,\n",
       "       0.00179537, 0.0130848 , 0.01177822, 0.04523972, 0.00877762,\n",
       "       0.01817753, 0.00602642, 0.00761943, 0.01188029, 0.03072669,\n",
       "       0.00734754, 0.02235879, 0.01325344, 0.00523791, 0.00385253,\n",
       "       0.00598521, 0.00771632, 0.01829177, 0.00299219, 0.00795598,\n",
       "       0.00110576, 0.00289152, 0.01023598, 0.01044086, 0.00505189,\n",
       "       0.00667972, 0.01144981, 0.00651147, 0.00886594, 0.03796799,\n",
       "       0.00852916, 0.01993797, 0.00278457, 0.0150552 , 0.00354412,\n",
       "       0.00698691, 0.02341959, 0.01266575, 0.01635372, 0.01042159,\n",
       "       0.00793009, 0.01424892, 0.00523343, 0.00508984, 0.01627544,\n",
       "       0.01141039, 0.00287968, 0.00983508, 0.00527524, 0.01184476,\n",
       "       0.00194632, 0.00182892, 0.00730888, 0.00101967, 0.0095891 ,\n",
       "       0.02125154, 0.00607929, 0.01628627, 0.00494004, 0.01923661,\n",
       "       0.00526131, 0.00701733, 0.00209258])"
      ]
     },
     "execution_count": 87,
     "metadata": {},
     "output_type": "execute_result"
    }
   ],
   "source": [
    "rf.feature_importances_"
   ]
  },
  {
   "cell_type": "code",
   "execution_count": 91,
   "metadata": {},
   "outputs": [
    {
     "data": {
      "text/plain": [
       "BaggingClassifier(base_estimator=DecisionTreeClassifier(ccp_alpha=0.0,\n",
       "                                                        class_weight=None,\n",
       "                                                        criterion='gini',\n",
       "                                                        max_depth=None,\n",
       "                                                        max_features=None,\n",
       "                                                        max_leaf_nodes=None,\n",
       "                                                        min_impurity_decrease=0.0,\n",
       "                                                        min_impurity_split=None,\n",
       "                                                        min_samples_leaf=1,\n",
       "                                                        min_samples_split=2,\n",
       "                                                        min_weight_fraction_leaf=0.0,\n",
       "                                                        presort='deprecated',\n",
       "                                                        random_state=None,\n",
       "                                                        splitter='best'),\n",
       "                  bootstrap=True, bootstrap_features=False, max_features=1.0,\n",
       "                  max_samples=0.5, n_estimators=200, n_jobs=None,\n",
       "                  oob_score=False, random_state=None, verbose=0,\n",
       "                  warm_start=False)"
      ]
     },
     "execution_count": 91,
     "metadata": {},
     "output_type": "execute_result"
    }
   ],
   "source": [
    "bg = BaggingClassifier(DecisionTreeClassifier(), max_samples = 0.5, max_features = 1.0, n_estimators = 200)\n",
    "bg.fit(X_train, y_train)"
   ]
  },
  {
   "cell_type": "code",
   "execution_count": 93,
   "metadata": {},
   "outputs": [
    {
     "data": {
      "text/plain": [
       "0.7984001292824823"
      ]
     },
     "execution_count": 93,
     "metadata": {},
     "output_type": "execute_result"
    }
   ],
   "source": [
    "bg.score(X_test, y_test)"
   ]
  },
  {
   "cell_type": "code",
   "execution_count": 96,
   "metadata": {},
   "outputs": [
    {
     "data": {
      "text/plain": [
       "AdaBoostClassifier(algorithm='SAMME.R',\n",
       "                   base_estimator=DecisionTreeClassifier(ccp_alpha=0.0,\n",
       "                                                         class_weight=None,\n",
       "                                                         criterion='gini',\n",
       "                                                         max_depth=None,\n",
       "                                                         max_features=None,\n",
       "                                                         max_leaf_nodes=None,\n",
       "                                                         min_impurity_decrease=0.0,\n",
       "                                                         min_impurity_split=None,\n",
       "                                                         min_samples_leaf=1,\n",
       "                                                         min_samples_split=2,\n",
       "                                                         min_weight_fraction_leaf=0.0,\n",
       "                                                         presort='deprecated',\n",
       "                                                         random_state=None,\n",
       "                                                         splitter='best'),\n",
       "                   learning_rate=0.1, n_estimators=200, random_state=None)"
      ]
     },
     "execution_count": 96,
     "metadata": {},
     "output_type": "execute_result"
    }
   ],
   "source": [
    "adb = AdaBoostClassifier(DecisionTreeClassifier(), learning_rate = 0.1, n_estimators = 200)\n",
    "adb.fit(X_train, y_train)"
   ]
  },
  {
   "cell_type": "code",
   "execution_count": 97,
   "metadata": {},
   "outputs": [
    {
     "data": {
      "text/plain": [
       "0.7130736910148675"
      ]
     },
     "execution_count": 97,
     "metadata": {},
     "output_type": "execute_result"
    }
   ],
   "source": [
    "adb.score(X_test, y_test)"
   ]
  },
  {
   "cell_type": "code",
   "execution_count": 98,
   "metadata": {
    "scrolled": true
   },
   "outputs": [
    {
     "data": {
      "text/plain": [
       "1.0"
      ]
     },
     "execution_count": 98,
     "metadata": {},
     "output_type": "execute_result"
    }
   ],
   "source": [
    "adb.score(X_train, y_train)"
   ]
  },
  {
   "cell_type": "code",
   "execution_count": 171,
   "metadata": {
    "scrolled": true
   },
   "outputs": [
    {
     "data": {
      "text/plain": [
       "LogisticRegression(C=1.0, class_weight=None, dual=False, fit_intercept=True,\n",
       "                   intercept_scaling=1, l1_ratio=None, max_iter=10000,\n",
       "                   multi_class='auto', n_jobs=None, penalty='l2',\n",
       "                   random_state=None, solver='lbfgs', tol=0.0001, verbose=0,\n",
       "                   warm_start=False)"
      ]
     },
     "execution_count": 171,
     "metadata": {},
     "output_type": "execute_result"
    }
   ],
   "source": [
    "lr = LogisticRegression(max_iter = 10000)\n",
    "lr.fit(X_train, y_train)"
   ]
  },
  {
   "cell_type": "code",
   "execution_count": 172,
   "metadata": {},
   "outputs": [
    {
     "data": {
      "text/plain": [
       "0.41414141414141414"
      ]
     },
     "execution_count": 172,
     "metadata": {},
     "output_type": "execute_result"
    }
   ],
   "source": [
    "pred = lr.predict(X_test)\n",
    "accuracy_score(y_test, pred)"
   ]
  },
  {
   "cell_type": "code",
   "execution_count": 191,
   "metadata": {},
   "outputs": [
    {
     "name": "stdout",
     "output_type": "stream",
     "text": [
      "Accuracy LR\n",
      "[0.7652714932126696, 0.7634938590820943, 0.7581609566903684, 0.7654141414141414, 0.7558787878787879]\n",
      "Accuracy RF\n",
      "[0.8145604395604396, 0.8159340659340659, 0.8073691014867486, 0.8142222222222222, 0.806949494949495]\n",
      "Accuracy BG\n",
      "[0.7975921137685844, 0.8023594053005818, 0.794683257918552, 0.8004040404040405, 0.7951515151515152]\n",
      "Accuracy GBC\n",
      "[0.8171460892049127, 0.8164188752424046, 0.8138332255979315, 0.8228686868686869, 0.8107474747474748]\n",
      "Accuracy XGB\n",
      "[0.8160148674854557, 0.8114899806076277, 0.8141564318034906, 0.8187474747474748, 0.808]\n",
      "Accuracy EVC\n",
      "[0.8197317388493859, 0.8146412411118293, 0.8179541047188106, 0.8211717171717172, 0.8095353535353536]\n"
     ]
    }
   ],
   "source": [
    "kf = KFold(n_splits = 5, random_state = 5, shuffle = True)\n",
    "\n",
    "accuracy_lr = []\n",
    "accuracy_rf = []\n",
    "accuracy_bg = []\n",
    "accuracy_gbc = []\n",
    "accuracy_xgb = []\n",
    "accuracy_evc = []\n",
    "\n",
    "# Iterate over each train-test split\n",
    "for train_index, test_index in kf.split(X_log):\n",
    "    # Split train-test\n",
    "    X_train, X_test = X_log.iloc[train_index], X_log.iloc[test_index]\n",
    "    y_train, y_test = y[train_index], y[test_index]\n",
    "    \n",
    "    # Train the model\n",
    "    m_lr = LogisticRegression(max_iter = 10000)\n",
    "    m_lr.fit(X_train, y_train)\n",
    "    accuracy_lr.append(accuracy_score(y_test, m_lr.predict(X_test)))\n",
    "    \n",
    "    m_rf = RandomForestClassifier(n_estimators = 200)\n",
    "    m_rf.fit(X_train, y_train)\n",
    "    accuracy_rf.append(m_rf.score(X_test, y_test))\n",
    "    \n",
    "    m_bg = BaggingClassifier(DecisionTreeClassifier(), max_samples = 0.5, max_features = 1.0, n_estimators = 200)\n",
    "    m_bg.fit(X_train, y_train)\n",
    "    accuracy_bg.append(m_bg.score(X_test, y_test))\n",
    "    \n",
    "    m_gbc = GradientBoostingClassifier(n_estimators = 100, learning_rate = 0.1, max_depth = 10, random_state = 0)\n",
    "    m_gbc.fit(X_train, y_train)\n",
    "    accuracy_gbc.append(m_gbc.score(X_test, y_test))\n",
    "    \n",
    "    m_clf = xgb.XGBClassifier()\n",
    "    m_clf.fit(X_train, y_train)\n",
    "    accuracy_xgb.append(m_clf.score(X_test, y_test))\n",
    "    \n",
    "    m_evc = VotingClassifier(estimators= [('lr', m_lr), ('rf', m_rf), ('bg', m_bg), (\"clf\", m_clf), ('gbc', m_gbc)], voting = 'hard')\n",
    "    m_evc.fit(X_train,y_train)\n",
    "    accuracy_evc.append(m_evc.score(X_test, y_test))\n",
    "\n",
    "print(\"Accuracy LR\")\n",
    "print(accuracy_lr)\n",
    "print(\"Accuracy RF\")\n",
    "print(accuracy_rf)\n",
    "print(\"Accuracy BG\")\n",
    "print(accuracy_bg)\n",
    "print(\"Accuracy GBC\")\n",
    "print(accuracy_gbc)\n",
    "print(\"Accuracy XGB\")\n",
    "print(accuracy_xgb)\n",
    "print(\"Accuracy EVC\")\n",
    "print(accuracy_evc)"
   ]
  },
  {
   "cell_type": "code",
   "execution_count": 237,
   "metadata": {},
   "outputs": [
    {
     "data": {
      "image/png": "[encoded data removed]",
      "text/plain": [
       "<Figure size 432x288 with 1 Axes>"
      ]
     },
     "metadata": {
      "needs_background": "light"
     },
     "output_type": "display_data"
    }
   ],
   "source": [
    "plt.bar([i for i in range(1, 6)], accuracy_lr, color = \"blue\")\n",
    "plt.ylim([0.7, 0.8])\n",
    "plt.xlabel(\"Fold\")\n",
    "plt.xticks(np.arange(1, 6))\n",
    "plt.ylabel(\"Accuracy\")\n",
    "plt.title(\"Logistic Regression Accuracy across 5 folds\")\n",
    "plt.show()"
   ]
  },
  {
   "cell_type": "code",
   "execution_count": 239,
   "metadata": {},
   "outputs": [
    {
     "data": {
      "image/png": "[encoded data removed]",
      "text/plain": [
       "<Figure size 432x288 with 1 Axes>"
      ]
     },
     "metadata": {
      "needs_background": "light"
     },
     "output_type": "display_data"
    }
   ],
   "source": [
    "plt.bar([i for i in range(1, 6)], accuracy_rf, color = \"gold\")\n",
    "plt.ylim([0.75, 0.85])\n",
    "plt.xlabel(\"Fold\")\n",
    "plt.xticks(np.arange(1, 6))\n",
    "plt.ylabel(\"Accuracy\")\n",
    "plt.title(\"Random Forest Accuracy across 5 folds\")\n",
    "plt.show()"
   ]
  },
  {
   "cell_type": "code",
   "execution_count": 241,
   "metadata": {},
   "outputs": [
    {
     "data": {
      "image/png": "[encoded data removed]",
      "text/plain": [
       "<Figure size 432x288 with 1 Axes>"
      ]
     },
     "metadata": {
      "needs_background": "light"
     },
     "output_type": "display_data"
    }
   ],
   "source": [
    "plt.bar([i for i in range(1, 6)], accuracy_bg, color = \"red\")\n",
    "plt.ylim([0.75, 0.85])\n",
    "plt.xlabel(\"Fold\")\n",
    "plt.xticks(np.arange(1, 6))\n",
    "plt.ylabel(\"Accuracy\")\n",
    "plt.title(\"Bagging Classifier Accuracy across 5 folds\")\n",
    "plt.show()"
   ]
  },
  {
   "cell_type": "code",
   "execution_count": 242,
   "metadata": {},
   "outputs": [
    {
     "data": {
      "image/png": "[encoded data removed]",
      "text/plain": [
       "<Figure size 432x288 with 1 Axes>"
      ]
     },
     "metadata": {
      "needs_background": "light"
     },
     "output_type": "display_data"
    }
   ],
   "source": [
    "plt.bar([i for i in range(1, 6)], accuracy_gbc, color = \"green\")\n",
    "plt.ylim([0.75, 0.85])\n",
    "plt.xlabel(\"Fold\")\n",
    "plt.xticks(np.arange(1, 6))\n",
    "plt.ylabel(\"Accuracy\")\n",
    "plt.title(\"Gradient Boosting Classifier Accuracy across 5 folds\")\n",
    "plt.show()"
   ]
  },
  {
   "cell_type": "code",
   "execution_count": 245,
   "metadata": {},
   "outputs": [
    {
     "data": {
      "image/png": "[encoded data removed]",
      "text/plain": [
       "<Figure size 432x288 with 1 Axes>"
      ]
     },
     "metadata": {
      "needs_background": "light"
     },
     "output_type": "display_data"
    }
   ],
   "source": [
    "plt.bar([i for i in range(1, 6)], accuracy_xgb, color = \"purple\")\n",
    "plt.ylim([0.75, 0.85])\n",
    "plt.xlabel(\"Fold\")\n",
    "plt.xticks(np.arange(1, 6))\n",
    "plt.ylabel(\"Accuracy\")\n",
    "plt.title(\"Xtreme Gradient Boosting Accuracy across 5 folds\")\n",
    "plt.show()"
   ]
  },
  {
   "cell_type": "code",
   "execution_count": 249,
   "metadata": {},
   "outputs": [
    {
     "data": {
      "image/png": "[encoded data removed]",
      "text/plain": [
       "<Figure size 432x288 with 1 Axes>"
      ]
     },
     "metadata": {
      "needs_background": "light"
     },
     "output_type": "display_data"
    }
   ],
   "source": [
    "plt.bar([i for i in range(1, 6)], accuracy_evc, color = \"Orange\")\n",
    "plt.ylim([0.75, 0.85])\n",
    "plt.xlabel(\"Fold\")\n",
    "plt.xticks(np.arange(1, 6))\n",
    "plt.ylabel(\"Accuracy\")\n",
    "plt.title(\"Voting Classifier Accuracy across 5 folds\")\n",
    "plt.show()"
   ]
  },
  {
   "cell_type": "code",
   "execution_count": 186,
   "metadata": {
    "scrolled": true
   },
   "outputs": [
    {
     "data": {
      "text/plain": [
       "0.807207498383969"
      ]
     },
     "execution_count": 186,
     "metadata": {},
     "output_type": "execute_result"
    }
   ],
   "source": [
    "gbc = GradientBoostingClassifier(n_estimators = 100, learning_rate = 0.1, max_depth = 10, random_state = 0)\n",
    "gbc.fit(X_train, y_train)\n",
    "gbc.score(X_test, y_test)"
   ]
  },
  {
   "cell_type": "code",
   "execution_count": 165,
   "metadata": {},
   "outputs": [
    {
     "data": {
      "text/plain": [
       "0.8099547511312217"
      ]
     },
     "execution_count": 165,
     "metadata": {},
     "output_type": "execute_result"
    }
   ],
   "source": [
    "evc.score(X_test, y_test)"
   ]
  },
  {
   "cell_type": "code",
   "execution_count": 184,
   "metadata": {},
   "outputs": [
    {
     "data": {
      "text/plain": [
       "XGBClassifier(base_score=0.5, booster=None, colsample_bylevel=1,\n",
       "              colsample_bynode=1, colsample_bytree=1, gamma=0, gpu_id=-1,\n",
       "              importance_type='gain', interaction_constraints=None,\n",
       "              learning_rate=0.300000012, max_delta_step=0, max_depth=6,\n",
       "              min_child_weight=1, missing=nan, monotone_constraints=None,\n",
       "              n_estimators=100, n_jobs=0, num_parallel_tree=1,\n",
       "              objective='multi:softprob', random_state=0, reg_alpha=0,\n",
       "              reg_lambda=1, scale_pos_weight=None, subsample=1,\n",
       "              tree_method=None, validate_parameters=False, verbosity=None)"
      ]
     },
     "execution_count": 184,
     "metadata": {},
     "output_type": "execute_result"
    }
   ],
   "source": [
    "clf = xgb.XGBClassifier()\n",
    "clf.fit(X_train, y_train)"
   ]
  },
  {
   "cell_type": "code",
   "execution_count": 185,
   "metadata": {},
   "outputs": [
    {
     "data": {
      "text/plain": [
       "0.8159340659340659"
      ]
     },
     "execution_count": 185,
     "metadata": {},
     "output_type": "execute_result"
    }
   ],
   "source": [
    "clf.score(X_test, y_test)"
   ]
  },
  {
   "cell_type": "code",
   "execution_count": 156,
   "metadata": {},
   "outputs": [],
   "source": [
    "y_pred = clf.predict(X_test)"
   ]
  },
  {
   "cell_type": "code",
   "execution_count": 158,
   "metadata": {},
   "outputs": [
    {
     "name": "stdout",
     "output_type": "stream",
     "text": [
      "0.8159340659340659\n"
     ]
    }
   ],
   "source": [
    "accuracy = accuracy_score(y_test, y_pred)\n",
    "print(accuracy)"
   ]
  },
  {
   "cell_type": "code",
   "execution_count": 195,
   "metadata": {},
   "outputs": [
    {
     "name": "stdout",
     "output_type": "stream",
     "text": [
      "VotingClassifier(estimators=[('lr',\n",
      "                              LogisticRegression(C=1.0, class_weight=None,\n",
      "                                                 dual=False, fit_intercept=True,\n",
      "                                                 intercept_scaling=1,\n",
      "                                                 l1_ratio=None, max_iter=10000,\n",
      "                                                 multi_class='auto',\n",
      "                                                 n_jobs=None, penalty='l2',\n",
      "                                                 random_state=None,\n",
      "                                                 solver='lbfgs', tol=0.0001,\n",
      "                                                 verbose=0, warm_start=False)),\n",
      "                             ('rf',\n",
      "                              RandomForestClassifier(bootstrap=True,\n",
      "                                                     ccp_alpha=0.0,\n",
      "                                                     class_weight=None,...\n",
      "                                                         max_leaf_nodes=None,\n",
      "                                                         min_impurity_decrease=0.0,\n",
      "                                                         min_impurity_split=None,\n",
      "                                                         min_samples_leaf=1,\n",
      "                                                         min_samples_split=2,\n",
      "                                                         min_weight_fraction_leaf=0.0,\n",
      "                                                         n_estimators=100,\n",
      "                                                         n_iter_no_change=None,\n",
      "                                                         presort='deprecated',\n",
      "                                                         random_state=0,\n",
      "                                                         subsample=1.0,\n",
      "                                                         tol=0.0001,\n",
      "                                                         validation_fraction=0.1,\n",
      "                                                         verbose=0,\n",
      "                                                         warm_start=False))],\n",
      "                 flatten_transform=True, n_jobs=None, voting='hard',\n",
      "                 weights=None)\n"
     ]
    }
   ],
   "source": [
    "evc = VotingClassifier(estimators= [('lr', lr), ('rf', rf), ('bg', bg), (\"clf\", clf), ('gbc', gbc)], voting = 'hard')\n",
    "print(evc)"
   ]
  },
  {
   "cell_type": "code",
   "execution_count": null,
   "metadata": {},
   "outputs": [],
   "source": [
    "evc.fit(X_train,y_train)\n",
    "evc.score(X_test, y_test)"
   ]
  },
  {
   "cell_type": "code",
   "execution_count": 198,
   "metadata": {},
   "outputs": [],
   "source": [
    "kf = KFold(n_splits = 5, random_state = 7, shuffle = True)\n",
    "\n",
    "# Train the model\n",
    "m_lr = LogisticRegression(max_iter = 10000)\n",
    "m_rf = RandomForestClassifier(n_estimators = 200)\n",
    "m_bg = BaggingClassifier(DecisionTreeClassifier(), max_samples = 0.5, max_features = 1.0, n_estimators = 200)\n",
    "m_gbc = GradientBoostingClassifier(n_estimators = 100, learning_rate = 0.1, max_depth = 10, random_state = 0)    \n",
    "m_clf = xgb.XGBClassifier()\n",
    "m_evc = VotingClassifier(estimators= [('lr', m_lr), ('rf', m_rf), ('bg', m_bg), (\"clf\", m_clf), ('gbc', m_gbc)], voting = 'hard')\n",
    "    \n",
    "for train_index, test_index in kf.split(X_log):\n",
    "    # Split train-test\n",
    "    X_train, X_test = X_log.iloc[train_index], X_log.iloc[test_index]\n",
    "    y_train, y_test = y[train_index], y[test_index]\n",
    "    \n",
    "    m_lr.fit(X_train, y_train)\n",
    "    m_rf.fit(X_train, y_train)\n",
    "    m_bg.fit(X_train, y_train)\n",
    "    m_gbc.fit(X_train, y_train)\n",
    "    m_clf.fit(X_train, y_train)\n",
    "    m_evc.fit(X_train, y_train)\n"
   ]
  },
  {
   "cell_type": "code",
   "execution_count": 199,
   "metadata": {},
   "outputs": [],
   "source": [
    "test = test.iloc[:, 1:]"
   ]
  },
  {
   "cell_type": "code",
   "execution_count": 200,
   "metadata": {},
   "outputs": [
    {
     "name": "stdout",
     "output_type": "stream",
     "text": [
      "   feat_1  feat_2  feat_3  feat_4  feat_5  feat_6  feat_7  feat_8  feat_9  \\\n",
      "0       0       0       0       0       0       0       0       0       0   \n",
      "1       2       2      14      16       0       0       0       0       0   \n",
      "2       0       1      12       1       0       0       0       0       0   \n",
      "3       0       0       0       1       0       0       0       0       0   \n",
      "4       1       0       0       1       0       0       1       2       0   \n",
      "\n",
      "   feat_10  ...  feat_84  feat_85  feat_86  feat_87  feat_88  feat_89  \\\n",
      "0        3  ...        0        0       11        1       20        0   \n",
      "1        0  ...        0        0        0        0        0        4   \n",
      "2        0  ...        0        0        0        0        2        0   \n",
      "3        0  ...        0        3        1        0        0        0   \n",
      "4        3  ...        0        0        0        0        0        0   \n",
      "\n",
      "   feat_90  feat_91  feat_92  feat_93  \n",
      "0        0        0        0        0  \n",
      "1        0        0        2        0  \n",
      "2        0        0        0        1  \n",
      "3        0        0        0        0  \n",
      "4        0        9        0        0  \n",
      "\n",
      "[5 rows x 93 columns]\n"
     ]
    }
   ],
   "source": [
    "print(test.head())"
   ]
  },
  {
   "cell_type": "code",
   "execution_count": 202,
   "metadata": {},
   "outputs": [
    {
     "name": "stdout",
     "output_type": "stream",
     "text": [
      "     feat_1    feat_2    feat_3    feat_4  feat_5  feat_6    feat_7    feat_8  \\\n",
      "0  0.000000  0.000000  0.000000  0.000000     0.0     0.0  0.000000  0.000000   \n",
      "1  1.098612  1.098612  2.708050  2.833213     0.0     0.0  0.000000  0.000000   \n",
      "2  0.000000  0.693147  2.564949  0.693147     0.0     0.0  0.000000  0.000000   \n",
      "3  0.000000  0.000000  0.000000  0.693147     0.0     0.0  0.000000  0.000000   \n",
      "4  0.693147  0.000000  0.000000  0.693147     0.0     0.0  0.693147  1.098612   \n",
      "\n",
      "   feat_9   feat_10  ...  feat_84   feat_85   feat_86   feat_87   feat_88  \\\n",
      "0     0.0  1.386294  ...      0.0  0.000000  2.484907  0.693147  3.044522   \n",
      "1     0.0  0.000000  ...      0.0  0.000000  0.000000  0.000000  0.000000   \n",
      "2     0.0  0.000000  ...      0.0  0.000000  0.000000  0.000000  1.098612   \n",
      "3     0.0  0.000000  ...      0.0  1.386294  0.693147  0.000000  0.000000   \n",
      "4     0.0  1.386294  ...      0.0  0.000000  0.000000  0.000000  0.000000   \n",
      "\n",
      "    feat_89  feat_90   feat_91   feat_92   feat_93  \n",
      "0  0.000000      0.0  0.000000  0.000000  0.000000  \n",
      "1  1.609438      0.0  0.000000  1.098612  0.000000  \n",
      "2  0.000000      0.0  0.000000  0.000000  0.693147  \n",
      "3  0.000000      0.0  0.000000  0.000000  0.000000  \n",
      "4  0.000000      0.0  2.302585  0.000000  0.000000  \n",
      "\n",
      "[5 rows x 93 columns]\n"
     ]
    }
   ],
   "source": [
    "test_log = test.transform(lambda x : np.log(x + 1))\n",
    "print(test_log.head())"
   ]
  },
  {
   "cell_type": "code",
   "execution_count": 205,
   "metadata": {},
   "outputs": [
    {
     "data": {
      "text/plain": [
       "VotingClassifier(estimators=[('lr',\n",
       "                              LogisticRegression(C=1.0, class_weight=None,\n",
       "                                                 dual=False, fit_intercept=True,\n",
       "                                                 intercept_scaling=1,\n",
       "                                                 l1_ratio=None, max_iter=10000,\n",
       "                                                 multi_class='auto',\n",
       "                                                 n_jobs=None, penalty='l2',\n",
       "                                                 random_state=None,\n",
       "                                                 solver='lbfgs', tol=0.0001,\n",
       "                                                 verbose=0, warm_start=False)),\n",
       "                             ('rf',\n",
       "                              RandomForestClassifier(bootstrap=True,\n",
       "                                                     ccp_alpha=0.0,\n",
       "                                                     class_weight=None,...\n",
       "                                                         max_leaf_nodes=None,\n",
       "                                                         min_impurity_decrease=0.0,\n",
       "                                                         min_impurity_split=None,\n",
       "                                                         min_samples_leaf=1,\n",
       "                                                         min_samples_split=2,\n",
       "                                                         min_weight_fraction_leaf=0.0,\n",
       "                                                         n_estimators=100,\n",
       "                                                         n_iter_no_change=None,\n",
       "                                                         presort='deprecated',\n",
       "                                                         random_state=0,\n",
       "                                                         subsample=1.0,\n",
       "                                                         tol=0.0001,\n",
       "                                                         validation_fraction=0.1,\n",
       "                                                         verbose=0,\n",
       "                                                         warm_start=False))],\n",
       "                 flatten_transform=True, n_jobs=None, voting='soft',\n",
       "                 weights=None)"
      ]
     },
     "execution_count": 205,
     "metadata": {},
     "output_type": "execute_result"
    }
   ],
   "source": [
    "m_evc = VotingClassifier(estimators= [('lr', m_lr), ('rf', m_rf), ('bg', m_bg), (\"clf\", m_clf), ('gbc', m_gbc)], voting = 'soft', weights = [1, 5, 4, 8, 8])\n",
    "m_evc.fit(X_log, y)"
   ]
  },
  {
   "cell_type": "code",
   "execution_count": 206,
   "metadata": {},
   "outputs": [],
   "source": [
    "preds = m_evc.predict_proba(test_log)"
   ]
  },
  {
   "cell_type": "code",
   "execution_count": 209,
   "metadata": {},
   "outputs": [],
   "source": [
    "preds = preds.round(3)"
   ]
  },
  {
   "cell_type": "code",
   "execution_count": 210,
   "metadata": {},
   "outputs": [
    {
     "name": "stdout",
     "output_type": "stream",
     "text": [
      "[[0.003 0.147 0.242 ... 0.014 0.002 0.002]\n",
      " [0.013 0.051 0.034 ... 0.025 0.3   0.012]\n",
      " [0.001 0.    0.    ... 0.    0.002 0.   ]\n",
      " ...\n",
      " [0.003 0.488 0.335 ... 0.015 0.004 0.003]\n",
      " [0.    0.491 0.052 ... 0.001 0.001 0.   ]\n",
      " [0.001 0.457 0.435 ... 0.044 0.001 0.   ]]\n"
     ]
    }
   ],
   "source": [
    "print(preds)"
   ]
  },
  {
   "cell_type": "code",
   "execution_count": 211,
   "metadata": {},
   "outputs": [
    {
     "name": "stdout",
     "output_type": "stream",
     "text": [
      "(144368, 9)\n"
     ]
    }
   ],
   "source": [
    "print(preds.shape)"
   ]
  },
  {
   "cell_type": "code",
   "execution_count": 212,
   "metadata": {},
   "outputs": [
    {
     "name": "stdout",
     "output_type": "stream",
     "text": [
      "[0.003 0.147 0.242 0.576 0.001 0.013 0.014 0.002 0.002]\n"
     ]
    }
   ],
   "source": [
    "print(preds[0])"
   ]
  },
  {
   "cell_type": "code",
   "execution_count": 213,
   "metadata": {},
   "outputs": [],
   "source": [
    "df = pd.DataFrame(preds, columns = [\"Class_1\", \"Class_2\", \"Class_3\", \"Class_4\", \"Class_5\", \"Class_6\", \"Class_7\", \"Class_8\", \"Class_9\"])"
   ]
  },
  {
   "cell_type": "code",
   "execution_count": 215,
   "metadata": {},
   "outputs": [
    {
     "name": "stdout",
     "output_type": "stream",
     "text": [
      "   id  Class_1  Class_2  Class_3  Class_4  Class_5  Class_6  Class_7  Class_8  \\\n",
      "0   1    0.003    0.147    0.242    0.576    0.001    0.013    0.014    0.002   \n",
      "1   2    0.013    0.051    0.034    0.021    0.002    0.541    0.025    0.300   \n",
      "2   3    0.001    0.000    0.000    0.000    0.000    0.997    0.000    0.002   \n",
      "3   4    0.003    0.645    0.289    0.027    0.000    0.001    0.003    0.001   \n",
      "4   5    0.106    0.000    0.001    0.000    0.000    0.013    0.021    0.138   \n",
      "\n",
      "   Class_9  \n",
      "0    0.002  \n",
      "1    0.012  \n",
      "2    0.000  \n",
      "3    0.030  \n",
      "4    0.721  \n"
     ]
    }
   ],
   "source": [
    "test_og = pd.read_csv(\"test.csv\")\n",
    "\n",
    "df[\"id\"] = test_og[\"id\"]\n",
    "cols = list(df.columns)\n",
    "cols = [cols[-1]] + cols[:-1]\n",
    "df = df[cols]\n",
    "print(df.head())"
   ]
  },
  {
   "cell_type": "code",
   "execution_count": 216,
   "metadata": {},
   "outputs": [],
   "source": [
    "df.to_csv(\"submission.csv\", encoding='utf-8', index=False)"
   ]
  },
  {
   "cell_type": "code",
   "execution_count": 217,
   "metadata": {},
   "outputs": [],
   "source": [
    "m_evc = VotingClassifier(estimators= [('lr', m_lr), ('rf', m_rf), ('bg', m_bg), (\"clf\", m_clf), ('gbc', m_gbc)], voting = 'soft', weights = [1, 5, 4, 8, 8])\n",
    "for train_index, test_index in kf.split(X_log):\n",
    "    \n",
    "    X_train, X_test = X_log.iloc[train_index], X_log.iloc[test_index]\n",
    "    y_train, y_test = y[train_index], y[test_index]\n",
    "    \n",
    "    m_evc.fit(X_train, y_train)"
   ]
  },
  {
   "cell_type": "code",
   "execution_count": 218,
   "metadata": {},
   "outputs": [
    {
     "name": "stdout",
     "output_type": "stream",
     "text": [
      "[[0.002 0.156 0.153 ... 0.012 0.004 0.   ]\n",
      " [0.011 0.049 0.035 ... 0.013 0.276 0.012]\n",
      " [0.    0.    0.    ... 0.    0.001 0.   ]\n",
      " ...\n",
      " [0.002 0.615 0.241 ... 0.024 0.005 0.004]\n",
      " [0.    0.482 0.045 ... 0.002 0.    0.   ]\n",
      " [0.    0.47  0.394 ... 0.076 0.002 0.   ]]\n"
     ]
    }
   ],
   "source": [
    "preds = m_evc.predict_proba(test_log)\n",
    "preds = preds.round(3)\n",
    "print(preds)"
   ]
  },
  {
   "cell_type": "code",
   "execution_count": 219,
   "metadata": {},
   "outputs": [
    {
     "name": "stdout",
     "output_type": "stream",
     "text": [
      "[0.002 0.156 0.153 0.665 0.    0.008 0.012 0.004 0.   ]\n"
     ]
    }
   ],
   "source": [
    "print(preds[0])"
   ]
  },
  {
   "cell_type": "code",
   "execution_count": 221,
   "metadata": {},
   "outputs": [
    {
     "name": "stdout",
     "output_type": "stream",
     "text": [
      "   id  Class_1  Class_2  Class_3  Class_4  Class_5  Class_6  Class_7  Class_8  \\\n",
      "0   1    0.002    0.156    0.153    0.665    0.000    0.008    0.012    0.004   \n",
      "1   2    0.011    0.049    0.035    0.022    0.002    0.578    0.013    0.276   \n",
      "2   3    0.000    0.000    0.000    0.000    0.001    0.998    0.000    0.001   \n",
      "3   4    0.005    0.625    0.308    0.037    0.000    0.002    0.002    0.002   \n",
      "4   5    0.076    0.001    0.001    0.000    0.000    0.017    0.017    0.085   \n",
      "\n",
      "   Class_9  \n",
      "0    0.000  \n",
      "1    0.012  \n",
      "2    0.000  \n",
      "3    0.019  \n",
      "4    0.802  \n"
     ]
    }
   ],
   "source": [
    "df1 = pd.DataFrame(preds, columns = [\"Class_1\", \"Class_2\", \"Class_3\", \"Class_4\", \"Class_5\", \"Class_6\", \"Class_7\", \"Class_8\", \"Class_9\"])\n",
    "\n",
    "df1[\"id\"] = test_og[\"id\"]\n",
    "cols = list(df1.columns)\n",
    "cols = [cols[-1]] + cols[:-1]\n",
    "df1 = df1[cols]\n",
    "print(df1.head())"
   ]
  },
  {
   "cell_type": "code",
   "execution_count": 223,
   "metadata": {},
   "outputs": [],
   "source": [
    "df1.to_csv(\"submission2.csv\", encoding='utf-8', index=False)"
   ]
  },
  {
   "cell_type": "code",
   "execution_count": null,
   "metadata": {},
   "outputs": [],
   "source": []
  }
 ],
 "metadata": {
  "kernelspec": {
   "display_name": "Python 3",
   "language": "python",
   "name": "python3"
  },
  "language_info": {
   "codemirror_mode": {
    "name": "ipython",
    "version": 3
   },
   "file_extension": ".py",
   "mimetype": "text/x-python",
   "name": "python",
   "nbconvert_exporter": "python",
   "pygments_lexer": "ipython3",
   "version": "3.7.4"
  }
 },
 "nbformat": 4,
 "nbformat_minor": 2
}
